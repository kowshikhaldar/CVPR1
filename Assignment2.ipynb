{
 "cells": [
  {
   "cell_type": "markdown",
   "metadata": {},
   "source": [
    "Imports"
   ]
  },
  {
   "cell_type": "code",
   "execution_count": 1,
   "metadata": {},
   "outputs": [],
   "source": [
    "import matplotlib.pyplot as plt\n",
    "import numpy as np\n"
   ]
  },
  {
   "cell_type": "code",
   "execution_count": 2,
   "metadata": {},
   "outputs": [],
   "source": [
    "class Neural_Network:\n",
    "    def __init__(self,inputlayerNeuron=2,HiddenlayerNeuron1=5,HiddenlayerNeuron2=6):\n",
    "\n",
    "        outputlayerNeuron=1\n",
    "        self.learning_rate=0.02\n",
    "        self.Weight_Input_Hidden1=np.random.randn(inputlayerNeuron,HiddenlayerNeuron1)\n",
    "        self.Weight_Hidden1_Hidden2=np.random.randn(HiddenlayerNeuron1,HiddenlayerNeuron2)\n",
    "        self.Weight_Hidden2_Output=np.random.randn(HiddenlayerNeuron2,outputlayerNeuron)\n",
    "     \n",
    "    \n",
    "    def forwardProp(self,Input):\n",
    "        self.hiddenLayer1Input=np.dot(Input,self.Weight_Input_Hidden1)\n",
    "        self.hiddenLayer1Output=self.Sigmoid(self.hiddenLayer1Input)\n",
    "\n",
    "        self.hiddenLayer2Input=np.dot(self.hiddenLayer1Output,self.Weight_Hidden1_Hidden2)\n",
    "        self.hiddenLayer2Output=self.Sigmoid(self.hiddenLayer2Input)\n",
    "        \n",
    "        self.outputLayer_Input=np.dot(self.hiddenLayer2Output,self.Weight_Hidden2_Output)\n",
    "        self.outputLayer_Output=self.Sigmoid(self.outputLayer_Input)\n",
    "\n",
    "        pred=self.outputLayer_Output\n",
    "        return pred\n",
    "\n",
    "\n",
    "    def BackProp(self,input,target,pred):\n",
    "        output_error=target-pred\n",
    "        output_delta=self.learning_rate*output_error*self.Sigmoid_Deriv(pred)\n",
    "\n",
    "        hiddenLayer2_error=np.dot(output_delta,self.Weight_Hidden2_Output.T)\n",
    "        hiddenLayer2_delta=self.learning_rate*hiddenLayer2_error*self.Sigmoid_Deriv(self.hiddenLayer2Output)\n",
    "\n",
    "        hiddenLayer1_error=np.dot(hiddenLayer2_delta,self.Weight_Hidden1_Hidden2.T)\n",
    "        hiddenLayer1_delta=self.learning_rate*hiddenLayer1_error*self.Sigmoid_Deriv(self.hiddenLayer1Output)\n",
    "\n",
    "        self.Weight_Input_Hidden1 += np.dot(input.T,hiddenLayer1_delta)\n",
    "\n",
    "        self.Weight_Hidden1_Hidden2 +=np.dot(self.hiddenLayer1Output.T,hiddenLayer2_delta)\n",
    "\n",
    "        self.Weight_Hidden2_Output +=np.dot(self.hiddenLayer2Output.T,output_delta)\n",
    "\n",
    "\n",
    "\n",
    "    def Sigmoid(self,x):\n",
    "        return (1/(1+np.exp(-x)))\n",
    "\n",
    "    def Sigmoid_Deriv(self,sig):\n",
    "        return sig*(1-sig)\n",
    "    \n",
    "    def ErrMean(self,input,target):\n",
    "        return np.mean(target-self.forwardProp(input))\n",
    "\n",
    "    def train(self,Input,target):\n",
    "        output=self.forwardProp(Input)\n",
    "        self.BackProp(Input,target,output)\n",
    "\n",
    "\n",
    "    "
   ]
  },
  {
   "cell_type": "code",
   "execution_count": 3,
   "metadata": {},
   "outputs": [
    {
     "name": "stdout",
     "output_type": "stream",
     "text": [
      "[0.46139611]\n"
     ]
    },
    {
     "data": {
      "image/png": "[encoded data removed]",
      "text/plain": [
       "<Figure size 640x480 with 1 Axes>"
      ]
     },
     "metadata": {},
     "output_type": "display_data"
    }
   ],
   "source": [
    "X = np.array([[0,0],[0,1],[1,0],[1,1]])\n",
    "Y = np.array([[0],[1],[1],[0]])\n",
    "err=[]\n",
    "nn=Neural_Network()\n",
    "for i in range(10000):\n",
    "    nn.train(X,Y)\n",
    "    err.append(nn.ErrMean(X,Y))\n",
    "\n",
    "plt.plot(err)\n",
    "print(nn.forwardProp([1,1]))"
   ]
  },
  {
   "cell_type": "code",
   "execution_count": 14,
   "metadata": {},
   "outputs": [
    {
     "name": "stdout",
     "output_type": "stream",
     "text": [
      "dict_items([(3, [0.3, 0.35, 982]), (5, [0, 3.21, 36.5, 9.8])])\n"
     ]
    }
   ],
   "source": [
    "# z=np.random.randn(2,3)\n",
    "# print(z)\n",
    "# m=z.dot(np.array([[1],[2],[3]]))\n",
    "# print(m)\n",
    "# print(np.dot(z,np.array([[1],[2],[3]])))\n",
    "\n",
    "adic={3:[0.3,0.35,982],5:[0,3.21,36.5,9.8]}\n",
    "print(adic.items())"
   ]
  }
 ],
 "metadata": {
  "kernelspec": {
   "display_name": "cvpr",
   "language": "python",
   "name": "python3"
  },
  "language_info": {
   "codemirror_mode": {
    "name": "ipython",
    "version": 3
   },
   "file_extension": ".py",
   "mimetype": "text/x-python",
   "name": "python",
   "nbconvert_exporter": "python",
   "pygments_lexer": "ipython3",
   "version": "3.12.3"
  }
 },
 "nbformat": 4,
 "nbformat_minor": 2
}
