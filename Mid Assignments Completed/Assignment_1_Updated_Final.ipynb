{
  "nbformat": 4,
  "nbformat_minor": 0,
  "metadata": {
    "colab": {
      "provenance": []
    },
    "kernelspec": {
      "name": "python3",
      "display_name": "Python 3"
    },
    "language_info": {
      "name": "python"
    }
  },
  "cells": [
    {
      "cell_type": "markdown",
      "source": [
        "Import Necessary Library"
      ],
      "metadata": {
        "id": "ULfmXe-Dha7e"
      }
    },
    {
      "cell_type": "code",
      "execution_count": 1,
      "metadata": {
        "id": "DQAdUAUdCiIb"
      },
      "outputs": [],
      "source": [
        "import os\n",
        "import cv2\n",
        "from tqdm import tqdm\n",
        "from matplotlib import pyplot as plt\n",
        "import random\n",
        "import numpy as np\n",
        "from IPython import display"
      ]
    },
    {
      "cell_type": "markdown",
      "source": [
        "Set Data Directory"
      ],
      "metadata": {
        "id": "GyfxApuYhihO"
      }
    },
    {
      "cell_type": "code",
      "source": [
        "DATA_DIR=\"/content/drive/MyDrive/Colab Notebooks/Myworks/dataset/animals/animals\""
      ],
      "metadata": {
        "id": "rqBTHFk8CzhP"
      },
      "execution_count": 2,
      "outputs": []
    },
    {
      "cell_type": "markdown",
      "source": [
        "Load Catagories"
      ],
      "metadata": {
        "id": "S2lKSel5hrFd"
      }
    },
    {
      "cell_type": "code",
      "source": [
        "def load_image(DATA_DIR):\n",
        "  catagories=os.listdir(DATA_DIR)\n",
        "  return catagories"
      ],
      "metadata": {
        "id": "IDNzds3KHJzl"
      },
      "execution_count": 3,
      "outputs": []
    },
    {
      "cell_type": "markdown",
      "source": [
        "Train Data Creation Function"
      ],
      "metadata": {
        "id": "OIjuCuh0h1Iu"
      }
    },
    {
      "cell_type": "code",
      "source": [
        "def get_trained_data(catagories):\n",
        "  trained_data=[]\n",
        "  for c in catagories:\n",
        "    new_path=os.path.join(DATA_DIR,c)\n",
        "    for img in tqdm(os.listdir(new_path)):\n",
        "        label=catagories.index(c)\n",
        "        img_path=os.path.join(new_path,img)\n",
        "        try:\n",
        "          img_arr=cv2.imread(img_path,cv2.IMREAD_GRAYSCALE)\n",
        "          img_arr=cv2.resize(img_arr,(256,256))\n",
        "        except:\n",
        "          pass\n",
        "\n",
        "        trained_data.append([img_arr,label])\n",
        "\n",
        "  random.shuffle(trained_data)\n",
        "  return trained_data"
      ],
      "metadata": {
        "id": "OPaR_vs4HzlW"
      },
      "execution_count": 4,
      "outputs": []
    },
    {
      "cell_type": "markdown",
      "source": [
        "Calculate L1 Distance"
      ],
      "metadata": {
        "id": "5IQ70heziP7N"
      }
    },
    {
      "cell_type": "code",
      "source": [
        "def distance(train,valid):\n",
        "  return np.sum(abs(train-valid))"
      ],
      "metadata": {
        "id": "B1UrEaGWVKb9"
      },
      "execution_count": 5,
      "outputs": []
    },
    {
      "cell_type": "markdown",
      "source": [
        "KNN classifire Function"
      ],
      "metadata": {
        "id": "U1G_hS0SiR2-"
      }
    },
    {
      "cell_type": "code",
      "source": [
        "def KNN(validation_set,trained_set,k=5):\n",
        "  dist=[]\n",
        "  zindex=0\n",
        "  for v in tqdm(validation_set):\n",
        "\n",
        "      for t in trained_set:\n",
        "          d=distance(t[0],v[0])\n",
        "          labell=t[1]\n",
        "          dist.append([d,labell,v[1]])\n",
        "      zindex +=1\n",
        "  dist.sort(key=lambda x: x[0])\n",
        "  return dist[:k]"
      ],
      "metadata": {
        "id": "5v2Ckp42MoA1"
      },
      "execution_count": 6,
      "outputs": []
    },
    {
      "cell_type": "markdown",
      "source": [
        "K-FOLD cross validation"
      ],
      "metadata": {
        "id": "pbKViqmZibH2"
      }
    },
    {
      "cell_type": "code",
      "source": [
        "def KFOLD(trained_set,kf=3,k_nei=3):\n",
        "  point_dict={k_nei:[]}\n",
        "  for i in range(kf):\n",
        "    accuracy=0\n",
        "    test=trained_set[i*(int(len(trained_set)/kf)):(i+1)*int(len(trained_set)/kf)]\n",
        "    first=trained_set[0:i*int(len(trained_set)/kf)]\n",
        "    last=trained_set[(i+1)*int(len(trained_set)/kf):]\n",
        "    trained=first+last\n",
        "    pred=KNN(test,trained,k_nei)\n",
        "    print(\"-\"*20)\n",
        "    print(\"FOLD-\",i+1)\n",
        "    print(pred)\n",
        "    for p in pred:\n",
        "      if(p[2] == p[1]):\n",
        "        accuracy +=1\n",
        "    final_acc=accuracy/k_nei\n",
        "    point_dict[k_nei].append(final_acc)\n",
        "    print(\"Accuracy: \",final_acc*100,\"%\")\n",
        "\n",
        "    print(\"-\"*20)\n",
        "  return point_dict\n",
        "\n",
        "\n",
        "\n",
        "\n",
        "\n",
        "\n"
      ],
      "metadata": {
        "id": "T4Tqyaif4dY2"
      },
      "execution_count": 7,
      "outputs": []
    },
    {
      "cell_type": "markdown",
      "source": [
        "For showing Image from numpy image matrix"
      ],
      "metadata": {
        "id": "M6DlRPnDigee"
      }
    },
    {
      "cell_type": "code",
      "source": [
        "def show_image(img_matrix):\n",
        "  plt.figure()\n",
        "  plt.imshow(img_matrix)\n",
        "  plt.show()\n"
      ],
      "metadata": {
        "id": "1VdgH0e_K83U"
      },
      "execution_count": 8,
      "outputs": []
    },
    {
      "cell_type": "markdown",
      "source": [
        "Create Catagories & Generate Train Data"
      ],
      "metadata": {
        "id": "Z7Pl6kSsin3U"
      }
    },
    {
      "cell_type": "code",
      "source": [
        "catag=load_image(DATA_DIR)\n",
        "trained_data=get_trained_data(catag)\n"
      ],
      "metadata": {
        "colab": {
          "base_uri": "https://localhost:8080/"
        },
        "id": "HRg_XEuaHcXN",
        "outputId": "5f87958e-19ae-426a-c8e2-cd329ab225b3"
      },
      "execution_count": 9,
      "outputs": [
        {
          "output_type": "stream",
          "name": "stderr",
          "text": [
            "100%|██████████| 1000/1000 [00:45<00:00, 21.81it/s]\n",
            "100%|██████████| 1000/1000 [00:33<00:00, 29.75it/s]\n",
            "100%|██████████| 1000/1000 [01:33<00:00, 10.73it/s]\n"
          ]
        }
      ]
    },
    {
      "cell_type": "markdown",
      "source": [
        "For Each value of Z- k of knn. And get point every K-Fold=5"
      ],
      "metadata": {
        "id": "ep-ZmIdleuqG"
      }
    },
    {
      "cell_type": "code",
      "source": [
        "m=0\n",
        "K_nei=[3, 5, 9, 13, 15, 20,25]\n",
        "points=[]\n",
        "for i in K_nei:\n",
        "\n",
        "  print(m,\"-\"*20)\n",
        "  point=KFOLD(trained_data,kf=5,k_nei=i)\n",
        "  points.append(point)\n",
        "  print(\"-\"*7)\n",
        "  m +=1\n",
        "\n",
        "\n",
        "\n",
        "print(points)"
      ],
      "metadata": {
        "colab": {
          "base_uri": "https://localhost:8080/"
        },
        "id": "VVgC7kDkRx5g",
        "outputId": "0003ed4b-5d9b-4e75-9116-191d522e57bf"
      },
      "execution_count": 10,
      "outputs": [
        {
          "output_type": "stream",
          "name": "stdout",
          "text": [
            "0 --------------------\n"
          ]
        },
        {
          "output_type": "stream",
          "name": "stderr",
          "text": [
            "100%|██████████| 600/600 [01:50<00:00,  5.42it/s]\n"
          ]
        },
        {
          "output_type": "stream",
          "name": "stdout",
          "text": [
            "--------------------\n",
            "FOLD- 1\n",
            "[[2714301, 0, 1], [2900075, 2, 1], [3046677, 1, 1]]\n",
            "Accuracy:  33.33333333333333 %\n",
            "--------------------\n"
          ]
        },
        {
          "output_type": "stream",
          "name": "stderr",
          "text": [
            "100%|██████████| 600/600 [01:52<00:00,  5.33it/s]\n"
          ]
        },
        {
          "output_type": "stream",
          "name": "stdout",
          "text": [
            "--------------------\n",
            "FOLD- 2\n",
            "[[3194459, 1, 0], [3647587, 0, 0], [3735559, 1, 1]]\n",
            "Accuracy:  66.66666666666666 %\n",
            "--------------------\n"
          ]
        },
        {
          "output_type": "stream",
          "name": "stderr",
          "text": [
            "100%|██████████| 600/600 [01:51<00:00,  5.38it/s]\n"
          ]
        },
        {
          "output_type": "stream",
          "name": "stdout",
          "text": [
            "--------------------\n",
            "FOLD- 3\n",
            "[[3691829, 0, 2], [3767583, 2, 1], [3783124, 1, 1]]\n",
            "Accuracy:  33.33333333333333 %\n",
            "--------------------\n"
          ]
        },
        {
          "output_type": "stream",
          "name": "stderr",
          "text": [
            "100%|██████████| 600/600 [01:52<00:00,  5.33it/s]\n"
          ]
        },
        {
          "output_type": "stream",
          "name": "stdout",
          "text": [
            "--------------------\n",
            "FOLD- 4\n",
            "[[3717658, 0, 1], [3851999, 0, 1], [3872705, 1, 1]]\n",
            "Accuracy:  33.33333333333333 %\n",
            "--------------------\n"
          ]
        },
        {
          "output_type": "stream",
          "name": "stderr",
          "text": [
            "100%|██████████| 600/600 [01:52<00:00,  5.35it/s]\n"
          ]
        },
        {
          "output_type": "stream",
          "name": "stdout",
          "text": [
            "--------------------\n",
            "FOLD- 5\n",
            "[[3725733, 0, 1], [3909935, 1, 1], [3928493, 0, 0]]\n",
            "Accuracy:  66.66666666666666 %\n",
            "--------------------\n",
            "-------\n",
            "1 --------------------\n"
          ]
        },
        {
          "output_type": "stream",
          "name": "stderr",
          "text": [
            "100%|██████████| 600/600 [01:55<00:00,  5.19it/s]\n"
          ]
        },
        {
          "output_type": "stream",
          "name": "stdout",
          "text": [
            "--------------------\n",
            "FOLD- 1\n",
            "[[2714301, 0, 1], [2900075, 2, 1], [3046677, 1, 1], [3095748, 0, 1], [3200227, 0, 1]]\n",
            "Accuracy:  20.0 %\n",
            "--------------------\n"
          ]
        },
        {
          "output_type": "stream",
          "name": "stderr",
          "text": [
            "100%|██████████| 600/600 [01:53<00:00,  5.28it/s]\n"
          ]
        },
        {
          "output_type": "stream",
          "name": "stdout",
          "text": [
            "--------------------\n",
            "FOLD- 2\n",
            "[[3194459, 1, 0], [3647587, 0, 0], [3735559, 1, 1], [3803323, 1, 0], [3815157, 0, 1]]\n",
            "Accuracy:  40.0 %\n",
            "--------------------\n"
          ]
        },
        {
          "output_type": "stream",
          "name": "stderr",
          "text": [
            "100%|██████████| 600/600 [01:50<00:00,  5.42it/s]\n"
          ]
        },
        {
          "output_type": "stream",
          "name": "stdout",
          "text": [
            "--------------------\n",
            "FOLD- 3\n",
            "[[3691829, 0, 2], [3767583, 2, 1], [3783124, 1, 1], [3801386, 2, 1], [3830030, 1, 1]]\n",
            "Accuracy:  40.0 %\n",
            "--------------------\n"
          ]
        },
        {
          "output_type": "stream",
          "name": "stderr",
          "text": [
            "100%|██████████| 600/600 [01:51<00:00,  5.37it/s]\n"
          ]
        },
        {
          "output_type": "stream",
          "name": "stdout",
          "text": [
            "--------------------\n",
            "FOLD- 4\n",
            "[[3717658, 0, 1], [3851999, 0, 1], [3872705, 1, 1], [3915426, 0, 1], [3951570, 0, 0]]\n",
            "Accuracy:  40.0 %\n",
            "--------------------\n"
          ]
        },
        {
          "output_type": "stream",
          "name": "stderr",
          "text": [
            "100%|██████████| 600/600 [01:52<00:00,  5.34it/s]\n"
          ]
        },
        {
          "output_type": "stream",
          "name": "stdout",
          "text": [
            "--------------------\n",
            "FOLD- 5\n",
            "[[3725733, 0, 1], [3909935, 1, 1], [3928493, 0, 0], [3950715, 1, 0], [4058141, 1, 0]]\n",
            "Accuracy:  40.0 %\n",
            "--------------------\n",
            "-------\n",
            "2 --------------------\n"
          ]
        },
        {
          "output_type": "stream",
          "name": "stderr",
          "text": [
            "100%|██████████| 600/600 [01:53<00:00,  5.30it/s]\n"
          ]
        },
        {
          "output_type": "stream",
          "name": "stdout",
          "text": [
            "--------------------\n",
            "FOLD- 1\n",
            "[[2714301, 0, 1], [2900075, 2, 1], [3046677, 1, 1], [3095748, 0, 1], [3200227, 0, 1], [3330734, 1, 0], [3343965, 0, 0], [3352324, 1, 1], [3375710, 2, 1]]\n",
            "Accuracy:  33.33333333333333 %\n",
            "--------------------\n"
          ]
        },
        {
          "output_type": "stream",
          "name": "stderr",
          "text": [
            "100%|██████████| 600/600 [01:52<00:00,  5.32it/s]\n"
          ]
        },
        {
          "output_type": "stream",
          "name": "stdout",
          "text": [
            "--------------------\n",
            "FOLD- 2\n",
            "[[3194459, 1, 0], [3647587, 0, 0], [3735559, 1, 1], [3803323, 1, 0], [3815157, 0, 1], [3834419, 0, 1], [3856956, 1, 1], [3858177, 0, 1], [3868266, 0, 0]]\n",
            "Accuracy:  44.44444444444444 %\n",
            "--------------------\n"
          ]
        },
        {
          "output_type": "stream",
          "name": "stderr",
          "text": [
            "100%|██████████| 600/600 [01:51<00:00,  5.37it/s]\n"
          ]
        },
        {
          "output_type": "stream",
          "name": "stdout",
          "text": [
            "--------------------\n",
            "FOLD- 3\n",
            "[[3691829, 0, 2], [3767583, 2, 1], [3783124, 1, 1], [3801386, 2, 1], [3830030, 1, 1], [3838188, 1, 1], [3845682, 2, 1], [3854285, 0, 0], [3889780, 1, 0]]\n",
            "Accuracy:  44.44444444444444 %\n",
            "--------------------\n"
          ]
        },
        {
          "output_type": "stream",
          "name": "stderr",
          "text": [
            "100%|██████████| 600/600 [01:52<00:00,  5.34it/s]\n"
          ]
        },
        {
          "output_type": "stream",
          "name": "stdout",
          "text": [
            "--------------------\n",
            "FOLD- 4\n",
            "[[3717658, 0, 1], [3851999, 0, 1], [3872705, 1, 1], [3915426, 0, 1], [3951570, 0, 0], [3999049, 1, 0], [4010328, 1, 0], [4056675, 1, 1], [4080175, 1, 0]]\n",
            "Accuracy:  33.33333333333333 %\n",
            "--------------------\n"
          ]
        },
        {
          "output_type": "stream",
          "name": "stderr",
          "text": [
            "100%|██████████| 600/600 [01:51<00:00,  5.36it/s]\n"
          ]
        },
        {
          "output_type": "stream",
          "name": "stdout",
          "text": [
            "--------------------\n",
            "FOLD- 5\n",
            "[[3725733, 0, 1], [3909935, 1, 1], [3928493, 0, 0], [3950715, 1, 0], [4058141, 1, 0], [4063767, 0, 1], [4094164, 1, 1], [4108030, 1, 1], [4147796, 0, 1]]\n",
            "Accuracy:  44.44444444444444 %\n",
            "--------------------\n",
            "-------\n",
            "3 --------------------\n"
          ]
        },
        {
          "output_type": "stream",
          "name": "stderr",
          "text": [
            "100%|██████████| 600/600 [01:51<00:00,  5.38it/s]\n"
          ]
        },
        {
          "output_type": "stream",
          "name": "stdout",
          "text": [
            "--------------------\n",
            "FOLD- 1\n",
            "[[2714301, 0, 1], [2900075, 2, 1], [3046677, 1, 1], [3095748, 0, 1], [3200227, 0, 1], [3330734, 1, 0], [3343965, 0, 0], [3352324, 1, 1], [3375710, 2, 1], [3429191, 1, 0], [3591405, 2, 1], [3665100, 2, 1], [3704427, 0, 1]]\n",
            "Accuracy:  23.076923076923077 %\n",
            "--------------------\n"
          ]
        },
        {
          "output_type": "stream",
          "name": "stderr",
          "text": [
            "100%|██████████| 600/600 [01:52<00:00,  5.35it/s]\n"
          ]
        },
        {
          "output_type": "stream",
          "name": "stdout",
          "text": [
            "--------------------\n",
            "FOLD- 2\n",
            "[[3194459, 1, 0], [3647587, 0, 0], [3735559, 1, 1], [3803323, 1, 0], [3815157, 0, 1], [3834419, 0, 1], [3856956, 1, 1], [3858177, 0, 1], [3868266, 0, 0], [3889455, 1, 1], [3921144, 0, 1], [3951110, 2, 0], [3986926, 2, 1]]\n",
            "Accuracy:  38.46153846153847 %\n",
            "--------------------\n"
          ]
        },
        {
          "output_type": "stream",
          "name": "stderr",
          "text": [
            "100%|██████████| 600/600 [01:51<00:00,  5.40it/s]\n"
          ]
        },
        {
          "output_type": "stream",
          "name": "stdout",
          "text": [
            "--------------------\n",
            "FOLD- 3\n",
            "[[3691829, 0, 2], [3767583, 2, 1], [3783124, 1, 1], [3801386, 2, 1], [3830030, 1, 1], [3838188, 1, 1], [3845682, 2, 1], [3854285, 0, 0], [3889780, 1, 0], [3892522, 1, 0], [3901620, 1, 0], [3924867, 0, 1], [3928013, 1, 1]]\n",
            "Accuracy:  38.46153846153847 %\n",
            "--------------------\n"
          ]
        },
        {
          "output_type": "stream",
          "name": "stderr",
          "text": [
            "100%|██████████| 600/600 [01:52<00:00,  5.33it/s]\n"
          ]
        },
        {
          "output_type": "stream",
          "name": "stdout",
          "text": [
            "--------------------\n",
            "FOLD- 4\n",
            "[[3717658, 0, 1], [3851999, 0, 1], [3872705, 1, 1], [3915426, 0, 1], [3951570, 0, 0], [3999049, 1, 0], [4010328, 1, 0], [4056675, 1, 1], [4080175, 1, 0], [4097021, 1, 1], [4105948, 0, 0], [4126564, 1, 0], [4132186, 2, 1]]\n",
            "Accuracy:  38.46153846153847 %\n",
            "--------------------\n"
          ]
        },
        {
          "output_type": "stream",
          "name": "stderr",
          "text": [
            "100%|██████████| 600/600 [01:52<00:00,  5.36it/s]\n"
          ]
        },
        {
          "output_type": "stream",
          "name": "stdout",
          "text": [
            "--------------------\n",
            "FOLD- 5\n",
            "[[3725733, 0, 1], [3909935, 1, 1], [3928493, 0, 0], [3950715, 1, 0], [4058141, 1, 0], [4063767, 0, 1], [4094164, 1, 1], [4108030, 1, 1], [4147796, 0, 1], [4176413, 2, 1], [4178024, 0, 0], [4192473, 0, 0], [4225074, 2, 1]]\n",
            "Accuracy:  46.15384615384615 %\n",
            "--------------------\n",
            "-------\n",
            "4 --------------------\n"
          ]
        },
        {
          "output_type": "stream",
          "name": "stderr",
          "text": [
            "100%|██████████| 600/600 [01:51<00:00,  5.37it/s]\n"
          ]
        },
        {
          "output_type": "stream",
          "name": "stdout",
          "text": [
            "--------------------\n",
            "FOLD- 1\n",
            "[[2714301, 0, 1], [2900075, 2, 1], [3046677, 1, 1], [3095748, 0, 1], [3200227, 0, 1], [3330734, 1, 0], [3343965, 0, 0], [3352324, 1, 1], [3375710, 2, 1], [3429191, 1, 0], [3591405, 2, 1], [3665100, 2, 1], [3704427, 0, 1], [3711652, 0, 0], [3716990, 1, 0]]\n",
            "Accuracy:  26.666666666666668 %\n",
            "--------------------\n"
          ]
        },
        {
          "output_type": "stream",
          "name": "stderr",
          "text": [
            "100%|██████████| 600/600 [01:52<00:00,  5.35it/s]\n"
          ]
        },
        {
          "output_type": "stream",
          "name": "stdout",
          "text": [
            "--------------------\n",
            "FOLD- 2\n",
            "[[3194459, 1, 0], [3647587, 0, 0], [3735559, 1, 1], [3803323, 1, 0], [3815157, 0, 1], [3834419, 0, 1], [3856956, 1, 1], [3858177, 0, 1], [3868266, 0, 0], [3889455, 1, 1], [3921144, 0, 1], [3951110, 2, 0], [3986926, 2, 1], [4013476, 1, 1], [4014493, 1, 1]]\n",
            "Accuracy:  46.666666666666664 %\n",
            "--------------------\n"
          ]
        },
        {
          "output_type": "stream",
          "name": "stderr",
          "text": [
            "100%|██████████| 600/600 [01:51<00:00,  5.37it/s]\n"
          ]
        },
        {
          "output_type": "stream",
          "name": "stdout",
          "text": [
            "--------------------\n",
            "FOLD- 3\n",
            "[[3691829, 0, 2], [3767583, 2, 1], [3783124, 1, 1], [3801386, 2, 1], [3830030, 1, 1], [3838188, 1, 1], [3845682, 2, 1], [3854285, 0, 0], [3889780, 1, 0], [3892522, 1, 0], [3901620, 1, 0], [3924867, 0, 1], [3928013, 1, 1], [3937445, 1, 1], [3948104, 1, 0]]\n",
            "Accuracy:  40.0 %\n",
            "--------------------\n"
          ]
        },
        {
          "output_type": "stream",
          "name": "stderr",
          "text": [
            "100%|██████████| 600/600 [01:51<00:00,  5.37it/s]\n"
          ]
        },
        {
          "output_type": "stream",
          "name": "stdout",
          "text": [
            "--------------------\n",
            "FOLD- 4\n",
            "[[3717658, 0, 1], [3851999, 0, 1], [3872705, 1, 1], [3915426, 0, 1], [3951570, 0, 0], [3999049, 1, 0], [4010328, 1, 0], [4056675, 1, 1], [4080175, 1, 0], [4097021, 1, 1], [4105948, 0, 0], [4126564, 1, 0], [4132186, 2, 1], [4139821, 0, 1], [4145572, 0, 1]]\n",
            "Accuracy:  33.33333333333333 %\n",
            "--------------------\n"
          ]
        },
        {
          "output_type": "stream",
          "name": "stderr",
          "text": [
            "100%|██████████| 600/600 [01:56<00:00,  5.17it/s]\n"
          ]
        },
        {
          "output_type": "stream",
          "name": "stdout",
          "text": [
            "--------------------\n",
            "FOLD- 5\n",
            "[[3725733, 0, 1], [3909935, 1, 1], [3928493, 0, 0], [3950715, 1, 0], [4058141, 1, 0], [4063767, 0, 1], [4094164, 1, 1], [4108030, 1, 1], [4147796, 0, 1], [4176413, 2, 1], [4178024, 0, 0], [4192473, 0, 0], [4225074, 2, 1], [4232920, 0, 0], [4233151, 1, 1]]\n",
            "Accuracy:  53.333333333333336 %\n",
            "--------------------\n",
            "-------\n",
            "5 --------------------\n"
          ]
        },
        {
          "output_type": "stream",
          "name": "stderr",
          "text": [
            "100%|██████████| 600/600 [01:52<00:00,  5.35it/s]\n"
          ]
        },
        {
          "output_type": "stream",
          "name": "stdout",
          "text": [
            "--------------------\n",
            "FOLD- 1\n",
            "[[2714301, 0, 1], [2900075, 2, 1], [3046677, 1, 1], [3095748, 0, 1], [3200227, 0, 1], [3330734, 1, 0], [3343965, 0, 0], [3352324, 1, 1], [3375710, 2, 1], [3429191, 1, 0], [3591405, 2, 1], [3665100, 2, 1], [3704427, 0, 1], [3711652, 0, 0], [3716990, 1, 0], [3720789, 2, 1], [3754499, 1, 0], [3754641, 0, 1], [3760571, 0, 1], [3765886, 2, 1]]\n",
            "Accuracy:  20.0 %\n",
            "--------------------\n"
          ]
        },
        {
          "output_type": "stream",
          "name": "stderr",
          "text": [
            "100%|██████████| 600/600 [01:52<00:00,  5.35it/s]\n"
          ]
        },
        {
          "output_type": "stream",
          "name": "stdout",
          "text": [
            "--------------------\n",
            "FOLD- 2\n",
            "[[3194459, 1, 0], [3647587, 0, 0], [3735559, 1, 1], [3803323, 1, 0], [3815157, 0, 1], [3834419, 0, 1], [3856956, 1, 1], [3858177, 0, 1], [3868266, 0, 0], [3889455, 1, 1], [3921144, 0, 1], [3951110, 2, 0], [3986926, 2, 1], [4013476, 1, 1], [4014493, 1, 1], [4027766, 1, 1], [4083972, 2, 0], [4084982, 1, 0], [4094378, 1, 0], [4103743, 0, 0]]\n",
            "Accuracy:  45.0 %\n",
            "--------------------\n"
          ]
        },
        {
          "output_type": "stream",
          "name": "stderr",
          "text": [
            "100%|██████████| 600/600 [01:51<00:00,  5.37it/s]\n"
          ]
        },
        {
          "output_type": "stream",
          "name": "stdout",
          "text": [
            "--------------------\n",
            "FOLD- 3\n",
            "[[3691829, 0, 2], [3767583, 2, 1], [3783124, 1, 1], [3801386, 2, 1], [3830030, 1, 1], [3838188, 1, 1], [3845682, 2, 1], [3854285, 0, 0], [3889780, 1, 0], [3892522, 1, 0], [3901620, 1, 0], [3924867, 0, 1], [3928013, 1, 1], [3937445, 1, 1], [3948104, 1, 0], [3958715, 1, 0], [3977438, 0, 1], [3979497, 2, 0], [3981046, 0, 0], [3981214, 1, 1]]\n",
            "Accuracy:  40.0 %\n",
            "--------------------\n"
          ]
        },
        {
          "output_type": "stream",
          "name": "stderr",
          "text": [
            "100%|██████████| 600/600 [01:51<00:00,  5.37it/s]\n"
          ]
        },
        {
          "output_type": "stream",
          "name": "stdout",
          "text": [
            "--------------------\n",
            "FOLD- 4\n",
            "[[3717658, 0, 1], [3851999, 0, 1], [3872705, 1, 1], [3915426, 0, 1], [3951570, 0, 0], [3999049, 1, 0], [4010328, 1, 0], [4056675, 1, 1], [4080175, 1, 0], [4097021, 1, 1], [4105948, 0, 0], [4126564, 1, 0], [4132186, 2, 1], [4139821, 0, 1], [4145572, 0, 1], [4163616, 0, 1], [4180533, 1, 0], [4187879, 1, 0], [4195763, 0, 1], [4222132, 1, 1]]\n",
            "Accuracy:  30.0 %\n",
            "--------------------\n"
          ]
        },
        {
          "output_type": "stream",
          "name": "stderr",
          "text": [
            "100%|██████████| 600/600 [01:51<00:00,  5.36it/s]\n"
          ]
        },
        {
          "output_type": "stream",
          "name": "stdout",
          "text": [
            "--------------------\n",
            "FOLD- 5\n",
            "[[3725733, 0, 1], [3909935, 1, 1], [3928493, 0, 0], [3950715, 1, 0], [4058141, 1, 0], [4063767, 0, 1], [4094164, 1, 1], [4108030, 1, 1], [4147796, 0, 1], [4176413, 2, 1], [4178024, 0, 0], [4192473, 0, 0], [4225074, 2, 1], [4232920, 0, 0], [4233151, 1, 1], [4240764, 0, 1], [4243647, 1, 0], [4247061, 0, 0], [4253478, 0, 1], [4299469, 1, 0]]\n",
            "Accuracy:  45.0 %\n",
            "--------------------\n",
            "-------\n",
            "6 --------------------\n"
          ]
        },
        {
          "output_type": "stream",
          "name": "stderr",
          "text": [
            "100%|██████████| 600/600 [01:51<00:00,  5.36it/s]\n"
          ]
        },
        {
          "output_type": "stream",
          "name": "stdout",
          "text": [
            "--------------------\n",
            "FOLD- 1\n",
            "[[2714301, 0, 1], [2900075, 2, 1], [3046677, 1, 1], [3095748, 0, 1], [3200227, 0, 1], [3330734, 1, 0], [3343965, 0, 0], [3352324, 1, 1], [3375710, 2, 1], [3429191, 1, 0], [3591405, 2, 1], [3665100, 2, 1], [3704427, 0, 1], [3711652, 0, 0], [3716990, 1, 0], [3720789, 2, 1], [3754499, 1, 0], [3754641, 0, 1], [3760571, 0, 1], [3765886, 2, 1], [3797771, 0, 1], [3802813, 0, 0], [3822720, 1, 0], [3828100, 1, 1], [3849476, 1, 0]]\n",
            "Accuracy:  24.0 %\n",
            "--------------------\n"
          ]
        },
        {
          "output_type": "stream",
          "name": "stderr",
          "text": [
            "100%|██████████| 600/600 [01:51<00:00,  5.36it/s]\n"
          ]
        },
        {
          "output_type": "stream",
          "name": "stdout",
          "text": [
            "--------------------\n",
            "FOLD- 2\n",
            "[[3194459, 1, 0], [3647587, 0, 0], [3735559, 1, 1], [3803323, 1, 0], [3815157, 0, 1], [3834419, 0, 1], [3856956, 1, 1], [3858177, 0, 1], [3868266, 0, 0], [3889455, 1, 1], [3921144, 0, 1], [3951110, 2, 0], [3986926, 2, 1], [4013476, 1, 1], [4014493, 1, 1], [4027766, 1, 1], [4083972, 2, 0], [4084982, 1, 0], [4094378, 1, 0], [4103743, 0, 0], [4107342, 1, 1], [4115346, 0, 1], [4120823, 0, 1], [4123522, 1, 0], [4126009, 0, 1]]\n",
            "Accuracy:  40.0 %\n",
            "--------------------\n"
          ]
        },
        {
          "output_type": "stream",
          "name": "stderr",
          "text": [
            "100%|██████████| 600/600 [01:51<00:00,  5.36it/s]\n"
          ]
        },
        {
          "output_type": "stream",
          "name": "stdout",
          "text": [
            "--------------------\n",
            "FOLD- 3\n",
            "[[3691829, 0, 2], [3767583, 2, 1], [3783124, 1, 1], [3801386, 2, 1], [3830030, 1, 1], [3838188, 1, 1], [3845682, 2, 1], [3854285, 0, 0], [3889780, 1, 0], [3892522, 1, 0], [3901620, 1, 0], [3924867, 0, 1], [3928013, 1, 1], [3937445, 1, 1], [3948104, 1, 0], [3958715, 1, 0], [3977438, 0, 1], [3979497, 2, 0], [3981046, 0, 0], [3981214, 1, 1], [4028727, 0, 0], [4054721, 1, 2], [4086538, 1, 0], [4092868, 2, 1], [4114254, 1, 0]]\n",
            "Accuracy:  36.0 %\n",
            "--------------------\n"
          ]
        },
        {
          "output_type": "stream",
          "name": "stderr",
          "text": [
            "100%|██████████| 600/600 [01:52<00:00,  5.35it/s]\n"
          ]
        },
        {
          "output_type": "stream",
          "name": "stdout",
          "text": [
            "--------------------\n",
            "FOLD- 4\n",
            "[[3717658, 0, 1], [3851999, 0, 1], [3872705, 1, 1], [3915426, 0, 1], [3951570, 0, 0], [3999049, 1, 0], [4010328, 1, 0], [4056675, 1, 1], [4080175, 1, 0], [4097021, 1, 1], [4105948, 0, 0], [4126564, 1, 0], [4132186, 2, 1], [4139821, 0, 1], [4145572, 0, 1], [4163616, 0, 1], [4180533, 1, 0], [4187879, 1, 0], [4195763, 0, 1], [4222132, 1, 1], [4240879, 1, 1], [4254325, 1, 0], [4258819, 1, 0], [4277020, 1, 1], [4282451, 0, 0]]\n",
            "Accuracy:  36.0 %\n",
            "--------------------\n"
          ]
        },
        {
          "output_type": "stream",
          "name": "stderr",
          "text": [
            "100%|██████████| 600/600 [01:50<00:00,  5.42it/s]\n"
          ]
        },
        {
          "output_type": "stream",
          "name": "stdout",
          "text": [
            "--------------------\n",
            "FOLD- 5\n",
            "[[3725733, 0, 1], [3909935, 1, 1], [3928493, 0, 0], [3950715, 1, 0], [4058141, 1, 0], [4063767, 0, 1], [4094164, 1, 1], [4108030, 1, 1], [4147796, 0, 1], [4176413, 2, 1], [4178024, 0, 0], [4192473, 0, 0], [4225074, 2, 1], [4232920, 0, 0], [4233151, 1, 1], [4240764, 0, 1], [4243647, 1, 0], [4247061, 0, 0], [4253478, 0, 1], [4299469, 1, 0], [4304415, 2, 1], [4306592, 0, 0], [4326912, 0, 1], [4330345, 1, 1], [4338158, 0, 0]]\n",
            "Accuracy:  48.0 %\n",
            "--------------------\n",
            "-------\n",
            "[{3: [0.3333333333333333, 0.6666666666666666, 0.3333333333333333, 0.3333333333333333, 0.6666666666666666]}, {5: [0.2, 0.4, 0.4, 0.4, 0.4]}, {9: [0.3333333333333333, 0.4444444444444444, 0.4444444444444444, 0.3333333333333333, 0.4444444444444444]}, {13: [0.23076923076923078, 0.38461538461538464, 0.38461538461538464, 0.38461538461538464, 0.46153846153846156]}, {15: [0.26666666666666666, 0.4666666666666667, 0.4, 0.3333333333333333, 0.5333333333333333]}, {20: [0.2, 0.45, 0.4, 0.3, 0.45]}, {25: [0.24, 0.4, 0.36, 0.36, 0.48]}]\n"
          ]
        }
      ]
    },
    {
      "cell_type": "markdown",
      "source": [
        "Plotting values of points"
      ],
      "metadata": {
        "id": "sWxX6vF6jeE9"
      }
    },
    {
      "cell_type": "code",
      "source": [
        "result_dict = {}\n",
        "middle_point=[]\n",
        "\n",
        "for item in points:\n",
        "    result_dict.update(item)\n",
        "\n",
        "colors = ['r', 'g', 'b', 'c', 'm', 'y', 'k']\n",
        "plt.figure(figsize=(10,6))\n",
        "plt.title(\"Cross Validation on k\")\n",
        "plt.ylabel(\"Cross-Validation Accuracy\")\n",
        "plt.xlabel(\"Values of k(in KNN)\")\n",
        "for idx2,(key,values) in  enumerate(result_dict.items()):\n",
        "  avg=np.sum(values)/len(values)\n",
        "  middle_point.append(avg)\n",
        "  x_values = [key] * len(values)\n",
        "  plt.plot(x_values, values, marker='o', color=random.choice(colors), linestyle='-')\n",
        "\n",
        "  for idx,val in enumerate(values):\n",
        "      plt.plot(key,val,marker='o',color=colors[idx],linestyle='-')\n",
        "\n",
        "plt.plot(K_nei,middle_point,marker='o',color='g',linestyle='-')\n",
        "plt.show()\n",
        "print(K_nei)"
      ],
      "metadata": {
        "colab": {
          "base_uri": "https://localhost:8080/",
          "height": 480
        },
        "id": "QZSkYweaJ6oz",
        "outputId": "cc17b20d-3e30-45b6-deeb-5c50e618ebe5"
      },
      "execution_count": 11,
      "outputs": [
        {
          "output_type": "display_data",
          "data": {
            "text/plain": [
              "<Figure size 1000x600 with 1 Axes>"
            ],
            "image/png": "[encoded data removed]"
          },
          "metadata": {}
        },
        {
          "output_type": "stream",
          "name": "stdout",
          "text": [
            "[3, 5, 9, 13, 15, 20, 25]\n"
          ]
        }
      ]
    },
    {
      "cell_type": "code",
      "source": [],
      "metadata": {
        "id": "WR8Yu4LrQJ4a"
      },
      "execution_count": 11,
      "outputs": []
    }
  ]
}